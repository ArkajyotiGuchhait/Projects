{
 "cells": [
  {
   "cell_type": "code",
   "execution_count": null,
   "id": "914a5ccd-c62d-49a4-bee1-9c1237798faf",
   "metadata": {},
   "outputs": [],
   "source": [
    "import numpy as np\n",
    "import matplotlib.pyplot as plt\n",
    "from math import sqrt\n",
    "from copy import deepcopy\n",
    "def makefield(xs, ys):\n",
    "    postoq={(1,0):1, (0,-1):-1, (-1,0):1}\n",
    "    n = len(xs)\n",
    "    Exs = [[0. for k in range(n)] for j in range(n)]\n",
    "    Eys = deepcopy(Exs)\n",
    "    for j,x in enumerate(xs):\n",
    "        for k,y in enumerate(ys):\n",
    "            for pos,q in postoq.items():\n",
    "                posx, posy = pos\n",
    "                R = sqrt((x - posx)**2 + (y - posy)**2)\n",
    "                Exs[k][j] += q*(x - posx)/R**3\n",
    "                Eys[k][j] += q*(y - posy)/R**3\n",
    "    return Exs, Eys\n",
    "def plotfield(boxl,n):\n",
    "    xs = [-boxl + a*2*boxl/(n-1) for a in range(n)]\n",
    "    ys = xs[:]\n",
    "    Exs, Eys = makefield(xs, ys)\n",
    "    xs=np.array(xs); ys=np.array(ys)\n",
    "    Exs=np.array(Exs); Eys=np.array(Eys)\n",
    "    plt.streamplot(xs,ys, Exs, Eys,density=1.5, color='r',linewidth=0.5)\n",
    "    plt.xlabel('$x$')\n",
    "    plt.ylabel('$y$')\n",
    "    plt.show()\n",
    "plotfield(3,20)"
   ]
  }
 ],
 "metadata": {
  "kernelspec": {
   "display_name": "Python 3 (ipykernel)",
   "language": "python",
   "name": "python3"
  },
  "language_info": {
   "codemirror_mode": {
    "name": "ipython",
    "version": 3
   },
   "file_extension": ".py",
   "mimetype": "text/x-python",
   "name": "python",
   "nbconvert_exporter": "python",
   "pygments_lexer": "ipython3",
   "version": "3.9.13"
  }
 },
 "nbformat": 4,
 "nbformat_minor": 5
}
